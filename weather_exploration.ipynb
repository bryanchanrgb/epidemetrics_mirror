{
 "cells": [
  {
   "cell_type": "code",
   "execution_count": 125,
   "metadata": {},
   "outputs": [],
   "source": [
    "import numpy as np \n",
    "import pandas as pd\n",
    "from tqdm import tqdm\n",
    "import psycopg2\n",
    "import datetime\n",
    "import matplotlib.pyplot as plt\n",
    "from scipy.stats import lognorm\n",
    "from datetime import timedelta\n",
    "from scipy import stats\n",
    "import seaborn as sns\n",
    "from scipy.optimize import curve_fit\n",
    "from sklearn.linear_model import LinearRegression\n",
    "%matplotlib inline\n",
    "\n",
    "def func_lognorm(x,amplitude,mean,std):\n",
    "    temp1=1/(x*std*np.sqrt(2*np.pi))\n",
    "    temp2=np.exp(-((np.log(x)-mean)**2)/(2*std**2))\n",
    "    return amplitude*temp1*temp2"
   ]
  },
  {
   "cell_type": "code",
   "execution_count": 126,
   "metadata": {},
   "outputs": [],
   "source": [
    "conn = psycopg2.connect(\n",
    "    host='covid19db.org',\n",
    "    port=5432,\n",
    "    dbname='covid19',\n",
    "    user='covid19',\n",
    "    password='covid19')\n",
    "cur = conn.cursor()\n",
    "\n",
    "source = \"USA_NYT\"\n",
    "sql_command = \"\"\"SELECT * FROM epidemiology WHERE source = %(source)s ORDER by date DESC\"\"\"\n",
    "df_epidemiology = pd.read_sql(sql_command, conn, params={'source': source})\n",
    "df_epidemiology=df_epidemiology[df_epidemiology['adm_area_2'].notnull()]"
   ]
  },
  {
   "cell_type": "code",
   "execution_count": 127,
   "metadata": {},
   "outputs": [
    {
     "data": {
      "text/plain": [
       "<matplotlib.axes._subplots.AxesSubplot at 0x13b759310>"
      ]
     },
     "execution_count": 127,
     "metadata": {},
     "output_type": "execute_result"
    },
    {
     "data": {
      "image/png": "[encoded data removed]",
      "text/plain": [
       "<Figure size 432x288 with 1 Axes>"
      ]
     },
     "metadata": {
      "needs_background": "light"
     },
     "output_type": "display_data"
    }
   ],
   "source": [
    "#df_epidemiology=df_epidemiology[(df_epidemiology['date'] <= datetime.date(2020,6,23)) & (df_epidemiology['date'] >= datetime.date(2020,6,13))]\n",
    "\n",
    "nyc=df_epidemiology[(df_epidemiology['adm_area_1']=='New York')&(df_epidemiology['adm_area_2']=='New York City')]\n",
    "nyc['confirmed'].sort_values().diff().reset_index(drop=True).plot()"
   ]
  },
  {
   "cell_type": "code",
   "execution_count": null,
   "metadata": {},
   "outputs": [],
   "source": []
  },
  {
   "cell_type": "code",
   "execution_count": 128,
   "metadata": {},
   "outputs": [
    {
     "name": "stdout",
     "output_type": "stream",
     "text": [
      "New York New York City\n",
      "California Los Angeles\n",
      "Illinois Cook\n",
      "New York Nassau\n"
     ]
    },
    {
     "name": "stderr",
     "output_type": "stream",
     "text": [
      "/anaconda3/lib/python3.7/site-packages/scipy/optimize/minpack.py:829: OptimizeWarning: Covariance of the parameters could not be estimated\n",
      "  category=OptimizeWarning)\n"
     ]
    },
    {
     "name": "stdout",
     "output_type": "stream",
     "text": [
      "New York Suffolk\n",
      "New York Westchester\n",
      "Arizona Maricopa\n",
      "Florida Miami-Dade\n",
      "Pennsylvania Philadelphia\n",
      "Texas Harris\n"
     ]
    },
    {
     "name": "stderr",
     "output_type": "stream",
     "text": [
      "/anaconda3/lib/python3.7/site-packages/scipy/optimize/minpack.py:822: RuntimeWarning: overflow encountered in multiply\n",
      "  pcov = pcov * s_sq\n"
     ]
    },
    {
     "name": "stdout",
     "output_type": "stream",
     "text": [
      "Massachusetts Middlesex\n",
      "Michigan Wayne\n",
      "Massachusetts Suffolk\n",
      "New Jersey Bergen\n",
      "New Jersey Hudson\n",
      "New Jersey Essex\n",
      "Maryland Prince George's\n",
      "Texas Dallas\n",
      "New Jersey Passaic\n",
      "New Jersey Middlesex\n",
      "Connecticut Fairfield\n",
      "New Jersey Union\n",
      "Massachusetts Essex\n",
      "California Riverside\n",
      "Maryland Montgomery\n",
      "Virginia Fairfax\n",
      "New York Rockland\n",
      "Rhode Island Providence\n",
      "Connecticut New Haven\n",
      "Massachusetts Worcester\n",
      "Michigan Oakland\n",
      "Florida Broward\n",
      "Connecticut Hartford\n",
      "California San Diego\n",
      "Nevada Clark\n",
      "Florida Palm Beach\n",
      "Indiana Marion\n",
      "Minnesota Hennepin\n",
      "California Orange\n",
      "New York Orange\n",
      "Wisconsin Milwaukee\n",
      "District of Columbia District of Columbia\n",
      "California San Bernardino\n",
      "New Jersey Ocean\n",
      "Illinois Lake\n",
      "Texas Tarrant\n",
      "Washington King\n",
      "Utah Salt Lake\n",
      "North Carolina Mecklenburg\n",
      "Massachusetts Norfolk\n"
     ]
    }
   ],
   "source": [
    "states=df_epidemiology[df_epidemiology['date'] == datetime.date(2020,6,23)].sort_values(ascending=False,by='confirmed').head(50)['adm_area_1'].values\n",
    "counties=df_epidemiology[df_epidemiology['date'] == datetime.date(2020,6,23)].sort_values(ascending=False,by='confirmed').head(50)['adm_area_2'].values\n",
    "days_since_first=list()\n",
    "confirmed_series=list()\n",
    "model_params=list()\n",
    "residuals=list()\n",
    "\n",
    "for i,(state,county) in enumerate(zip(states,counties)):\n",
    "    print(state,county)\n",
    "    days_since_first.append((df_epidemiology[(df_epidemiology['adm_area_2']==county)&(df_epidemiology['adm_area_1']==state)].iloc[0]['date']-df_epidemiology[(df_epidemiology['adm_area_2']==county)&(df_epidemiology['adm_area_1']==state)].iloc[-1]['date']).days)\n",
    "    confirmed_series.append(np.diff(np.flip(df_epidemiology[(df_epidemiology['adm_area_2']==county)&(df_epidemiology['adm_area_1']==state)]['confirmed'].values)))\n",
    "    popt,pcov=curve_fit(func_lognorm,xdata=list(range(days_since_first[i]))[1::],ydata=confirmed_series[i][1::],maxfev=1000000)\n",
    "    residuals.append(np.array(confirmed_series[i][1::])-[func_lognorm(x,popt[0],popt[1],popt[2]) for x in list(range(days_since_first[i]))[1::]])\n",
    "    model_params.append(popt)\n",
    "    '''\n",
    "    plt.figure()\n",
    "    ax=sns.lineplot(x=range(days_since_first[i]),y=confirmed_series[i])\n",
    "    sns.lineplot(x=list(range(days_since_first[i]))[1::],y=[func_lognorm(x,popt[0],popt[1],popt[2]) for x in list(range(days_since_first[i]))[1::]])\n",
    "    ax.set_title(state+', '+county)\n",
    "    '''"
   ]
  },
  {
   "cell_type": "code",
   "execution_count": 129,
   "metadata": {},
   "outputs": [],
   "source": [
    "conn = psycopg2.connect(\n",
    "    host='covid19db.org',\n",
    "    port=5432,\n",
    "    dbname='covid19',\n",
    "    user='covid19',\n",
    "    password='covid19')\n",
    "cur = conn.cursor()\n",
    "\n",
    "\n",
    "countrycode = \"USA\"\n",
    "\n",
    "sql_command = \"\"\"SELECT * FROM weather WHERE countrycode=%(countrycode)s ORDER by date DESC\"\"\"\n",
    "df_weather = pd.read_sql(sql_command, conn, params={'countrycode': countrycode})"
   ]
  },
  {
   "cell_type": "code",
   "execution_count": 130,
   "metadata": {},
   "outputs": [
    {
     "data": {
      "text/plain": [
       "Index(['date', 'countrycode', 'gid', 'precip_max_avg', 'precip_max_std',\n",
       "       'precip_mean_avg', 'precip_mean_std', 'specific_humidity_max_avg',\n",
       "       'specific_humidity_max_std', 'specific_humidity_mean_avg',\n",
       "       'specific_humidity_mean_std', 'specific_humidity_min_avg',\n",
       "       'specific_humidity_min_std', 'short_wave_radiation_max_avg',\n",
       "       'short_wave_radiation_max_std', 'short_wave_radiation_mean_avg',\n",
       "       'short_wave_radiation_mean_std', 'air_temperature_max_avg',\n",
       "       'air_temperature_max_std', 'air_temperature_mean_avg',\n",
       "       'air_temperature_mean_std', 'air_temperature_min_avg',\n",
       "       'air_temperature_min_std', 'windgust_max_avg', 'windgust_max_std',\n",
       "       'windgust_mean_avg', 'windgust_mean_std', 'windgust_min_avg',\n",
       "       'windgust_min_std', 'windspeed_max_avg', 'windspeed_max_std',\n",
       "       'windspeed_mean_avg', 'windspeed_mean_std', 'windspeed_min_avg',\n",
       "       'windspeed_min_std'],\n",
       "      dtype='object')"
      ]
     },
     "execution_count": 130,
     "metadata": {},
     "output_type": "execute_result"
    }
   ],
   "source": [
    "df_weather.columns\n",
    "\n",
    "#selected columns 'precip_mean_avg' 'precip_mean_std' 'specific_humidity_mean_avg' 'specific_humidity_mean_std' 'air_temperature_mean_avg' 'air_temperature_mean_std'\n"
   ]
  },
  {
   "cell_type": "code",
   "execution_count": null,
   "metadata": {},
   "outputs": [],
   "source": []
  },
  {
   "cell_type": "code",
   "execution_count": 173,
   "metadata": {},
   "outputs": [
    {
     "data": {
      "text/plain": [
       "0.0010002029961220238"
      ]
     },
     "execution_count": 173,
     "metadata": {},
     "output_type": "execute_result"
    }
   ],
   "source": [
    "precipitation_series=list()\n",
    "humidity_series=list()\n",
    "temperature_series=list()\n",
    "\n",
    "for i,(state,county) in enumerate(zip(states,counties)):\n",
    "    gids=df_epidemiology[(df_epidemiology['adm_area_1']==state)&(df_epidemiology['adm_area_2']==county)]['gid'].iloc[0]\n",
    "    precipitation=list()\n",
    "    humidity=list()\n",
    "    temperature=list()\n",
    "    \n",
    "    for gid in gids:\n",
    "        if len(df_weather[df_weather['gid']==gid]['precip_mean_avg'].values)==0:\n",
    "            continue\n",
    "        precipitation.append(df_weather[df_weather['gid']==gid]['precip_mean_avg'].values)\n",
    "        humidity.append(list(df_weather[df_weather['gid']==gid]['specific_humidity_mean_avg'].values))\n",
    "        temperature.append(list(df_weather[df_weather['gid']==gid]['air_temperature_mean_avg'].values))\n",
    "    \n",
    "    precipitation=np.mean(np.array(precipitation),axis=0)\n",
    "    humidity=np.mean(np.array(humidity),axis=0)\n",
    "    temperature=np.mean(np.array(temperature),axis=0)\n",
    "    \n",
    "    precipitation_series.append(list(precipitation))\n",
    "    humidity_series.append(list(humidity))\n",
    "    temperature_series.append(list(temperature))\n",
    "    \n",
    "lag=5\n",
    "\n",
    "X_train=np.array([temperature_series[0],precipitation_series[0],humidity_series[0]]).T[::-1][-days_since_first[0]-lag+1:-lag,:]\n",
    "y_train=residuals[0]\n",
    "\n",
    "for i,(state,county) in enumerate(zip(states,counties)):\n",
    "    if i==0:\n",
    "        continue\n",
    "    X_train=np.vstack((X_train,np.array([temperature_series[i],precipitation_series[i],humidity_series[i]]).T[::-1][-days_since_first[i]-lag+1:-lag,:]))\n",
    "    y_train=np.hstack((y_train,residuals[i]))\n",
    "    continue\n",
    "    \n",
    "X_train=np.array(X_train)\n",
    "y_train=np.array(y_train)\n",
    "\n",
    "LinearRegression().fit(X_train,y_train).score(X_train,y_train)"
   ]
  },
  {
   "cell_type": "code",
   "execution_count": 174,
   "metadata": {},
   "outputs": [
    {
     "name": "stdout",
     "output_type": "stream",
     "text": [
      "                            OLS Regression Results                            \n",
      "==============================================================================\n",
      "Dep. Variable:                      y   R-squared:                       0.001\n",
      "Model:                            OLS   Adj. R-squared:                  0.000\n",
      "Method:                 Least Squares   F-statistic:                     1.888\n",
      "Date:                Sun, 28 Jun 2020   Prob (F-statistic):              0.129\n",
      "Time:                        17:29:14   Log-Likelihood:                -37844.\n",
      "No. Observations:                5660   AIC:                         7.570e+04\n",
      "Df Residuals:                    5656   BIC:                         7.572e+04\n",
      "Df Model:                           3                                         \n",
      "Covariance Type:            nonrobust                                         \n",
      "==============================================================================\n",
      "                 coef    std err          t      P>|t|      [0.025      0.975]\n",
      "------------------------------------------------------------------------------\n",
      "const        164.7790    158.301      1.041      0.298    -145.551     475.109\n",
      "x1            -0.5296      0.572     -0.925      0.355      -1.652       0.593\n",
      "x2          5.961e+04   3.39e+04      1.759      0.079   -6824.148    1.26e+05\n",
      "x3           932.1173   1140.525      0.817      0.414   -1303.749    3167.984\n",
      "==============================================================================\n",
      "Omnibus:                     5911.051   Durbin-Watson:                   0.932\n",
      "Prob(Omnibus):                  0.000   Jarque-Bera (JB):           683070.328\n",
      "Skew:                           4.999   Prob(JB):                         0.00\n",
      "Kurtosis:                      55.882   Cond. No.                     3.77e+06\n",
      "==============================================================================\n",
      "\n",
      "Warnings:\n",
      "[1] Standard Errors assume that the covariance matrix of the errors is correctly specified.\n",
      "[2] The condition number is large, 3.77e+06. This might indicate that there are\n",
      "strong multicollinearity or other numerical problems.\n"
     ]
    }
   ],
   "source": [
    "import statsmodels.api as sm\n",
    "from scipy import stats\n",
    "\n",
    "\n",
    "X = sm.add_constant(X_train)\n",
    "est = sm.OLS(y_train, X)\n",
    "est2 = est.fit()\n",
    "print(est2.summary())"
   ]
  },
  {
   "cell_type": "code",
   "execution_count": null,
   "metadata": {},
   "outputs": [],
   "source": []
  },
  {
   "cell_type": "code",
   "execution_count": null,
   "metadata": {},
   "outputs": [],
   "source": []
  },
  {
   "cell_type": "code",
   "execution_count": 154,
   "metadata": {},
   "outputs": [
    {
     "data": {
      "text/plain": [
       "0.041920689269204"
      ]
     },
     "execution_count": 154,
     "metadata": {},
     "output_type": "execute_result"
    }
   ],
   "source": []
  }
 ],
 "metadata": {
  "kernelspec": {
   "display_name": "Python 3",
   "language": "python",
   "name": "python3"
  },
  "language_info": {
   "codemirror_mode": {
    "name": "ipython",
    "version": 3
   },
   "file_extension": ".py",
   "mimetype": "text/x-python",
   "name": "python",
   "nbconvert_exporter": "python",
   "pygments_lexer": "ipython3",
   "version": "3.7.7"
  }
 },
 "nbformat": 4,
 "nbformat_minor": 4
}
